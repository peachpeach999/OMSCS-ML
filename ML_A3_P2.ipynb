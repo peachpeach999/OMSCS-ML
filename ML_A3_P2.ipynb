{
 "cells": [
  {
   "cell_type": "code",
   "execution_count": 49,
   "id": "f4705ed9-cb79-4372-87af-ac775ff53e14",
   "metadata": {},
   "outputs": [],
   "source": [
    "import pandas as pd\n",
    "from sklearn import preprocessing\n",
    "import numpy as np\n",
    "from sklearn.model_selection import train_test_split\n",
    "import time"
   ]
  },
  {
   "cell_type": "code",
   "execution_count": null,
   "id": "282d19c1-1c6c-42d6-8458-630950dd4a8a",
   "metadata": {},
   "outputs": [],
   "source": []
  },
  {
   "cell_type": "code",
   "execution_count": null,
   "id": "bd70d8a5-46c9-430f-a733-0592c059ce05",
   "metadata": {},
   "outputs": [],
   "source": []
  },
  {
   "cell_type": "markdown",
   "id": "af830ad2-3ebb-4f6e-abc8-8f26012bb971",
   "metadata": {},
   "source": [
    "# Import mobile price dataset"
   ]
  },
  {
   "cell_type": "code",
   "execution_count": 2,
   "id": "eec77a74-2dd5-41df-b07d-2a42651d75cd",
   "metadata": {},
   "outputs": [
    {
     "name": "stdout",
     "output_type": "stream",
     "text": [
      "data dimensions: (2000, 21)\n",
      "label classes:  1    500\n",
      "2    500\n",
      "3    500\n",
      "0    500\n",
      "Name: price_range, dtype: int64\n"
     ]
    }
   ],
   "source": [
    "raw_data = pd.read_csv('mobile_price_range.csv')\n",
    "print(\"data dimensions:\" ,raw_data.shape)\n",
    "print(\"label classes: \", raw_data.price_range.value_counts())"
   ]
  },
  {
   "cell_type": "code",
   "execution_count": 6,
   "id": "f975d2f5-17c7-4b62-b45d-2371944f06d5",
   "metadata": {},
   "outputs": [],
   "source": [
    "X1_o = raw_data.loc[:,raw_data.columns!= 'price_range']\n",
    "y1 = raw_data['price_range']\n",
    "X1 = preprocessing.scale(X1_o)"
   ]
  },
  {
   "cell_type": "code",
   "execution_count": 42,
   "id": "4f59b1eb-7a6f-4dc1-a0de-51aa4b0957fa",
   "metadata": {},
   "outputs": [],
   "source": [
    "X_train, X_test, y_train, y_test = train_test_split(X1, y1, test_size=0.4, random_state=18)"
   ]
  },
  {
   "cell_type": "markdown",
   "id": "0a1c1079-d34e-4858-a0dd-9d07e9df16e8",
   "metadata": {},
   "source": [
    "# 4.1 Clustering with NN"
   ]
  },
  {
   "cell_type": "markdown",
   "id": "fbaa7091-6b99-4326-b638-6d730cf46603",
   "metadata": {},
   "source": [
    "#### 4.1.1 K-means"
   ]
  },
  {
   "cell_type": "code",
   "execution_count": 34,
   "id": "2ff62487-7b7f-457c-8203-efe004dd3f67",
   "metadata": {},
   "outputs": [],
   "source": [
    "from sklearn.cluster import KMeans\n",
    "from sklearn.neural_network import MLPClassifier\n",
    "from sklearn.metrics import roc_auc_score, accuracy_score, classification_report\n",
    "from sklearn.model_selection import GridSearchCV"
   ]
  },
  {
   "cell_type": "code",
   "execution_count": 43,
   "id": "c61c4c8a-858e-456b-98c2-97b5c446d2b4",
   "metadata": {},
   "outputs": [],
   "source": [
    "random_seed = 15\n",
    "# Choose k according to the approximate elbow location\n",
    "k1 = 5\n",
    "# Run kmeans again with optimal k values\n",
    "kmeans1 = KMeans(n_clusters=k1, random_state=random_seed).fit(X_train)\n"
   ]
  },
  {
   "cell_type": "code",
   "execution_count": 45,
   "id": "f90fc449-ffec-471f-a531-447f2a20977a",
   "metadata": {},
   "outputs": [],
   "source": [
    "X_train_kmeans = kmeans1.transform(X_train)\n",
    "X_test_kmeans = kmeans1.transform(X_test)"
   ]
  },
  {
   "cell_type": "code",
   "execution_count": 46,
   "id": "495ffe9e-b244-4c25-845c-77124e67706f",
   "metadata": {},
   "outputs": [
    {
     "name": "stdout",
     "output_type": "stream",
     "text": [
      "Accuracy of neural network without hyperparameter tuning is 30.38%\n"
     ]
    }
   ],
   "source": [
    "clf_nn = MLPClassifier(random_state=7, max_iter=10000)\n",
    "clf_nn.fit(X_train_kmeans, y_train)\n",
    "y_pred = clf_nn.predict(X_test_kmeans)\n",
    "nn_accuracy = accuracy_score(y_test, y_pred)\n",
    "print('Accuracy of neural network without hyperparameter tuning is %.2f%%' % (nn_accuracy * 100))\n",
    "# print(classification_report(y1, y_pred))"
   ]
  },
  {
   "cell_type": "code",
   "execution_count": 47,
   "id": "b590d713-14c7-465e-a85f-41e5c83b8650",
   "metadata": {},
   "outputs": [
    {
     "name": "stdout",
     "output_type": "stream",
     "text": [
      "Best parameters set found on development set:\n",
      "{'alpha': 3.1622776601683795, 'learning_rate_init': 0.001}\n"
     ]
    }
   ],
   "source": [
    "#Hyperparameter tuning\n",
    "# Define grid for grid search after observing validation curves\n",
    "alpha_range = np.logspace(-1, 2, 5)\n",
    "lr_range = np.logspace(-5, 0, 6)\n",
    "tuned_params = {'alpha' : alpha_range, 'learning_rate_init' : lr_range}\n",
    "clf_nn = GridSearchCV(clf_nn, param_grid=tuned_params, cv=5, n_jobs=-1)\n",
    "clf_nn.fit(X_train_kmeans, y_train)\n",
    "best_clf_nn = clf_nn.best_estimator_\n",
    "best_params = clf_nn.best_params_\n",
    "print(\"Best parameters set found on development set:\")\n",
    "print(best_params)"
   ]
  },
  {
   "cell_type": "code",
   "execution_count": 50,
   "id": "f70a3f10-6879-460d-8651-db811f205d0a",
   "metadata": {},
   "outputs": [
    {
     "name": "stdout",
     "output_type": "stream",
     "text": [
      "Training time: 1.506187 seconds\n",
      "Inference time on test data: 0.010527 seconds\n",
      "Best accuracy of neural network is 30.63%\n"
     ]
    }
   ],
   "source": [
    "t0 = time.time()\n",
    "best_clf_nn.fit(X_train_kmeans, y_train)\n",
    "t1 = time.time()\n",
    "print('Training time: %f seconds' % (t1 - t0))\n",
    "t0 = time.time()\n",
    "y_pred = best_clf_nn.predict(X_test_kmeans)\n",
    "t1 = time.time()\n",
    "test_time = t1 - t0\n",
    "print('Inference time on test data: %f seconds' % test_time)\n",
    "best_accuracy = accuracy_score(y_test, y_pred)\n",
    "print('Best accuracy of neural network is %.2f%%' % (best_accuracy * 100))"
   ]
  },
  {
   "cell_type": "markdown",
   "id": "8d74f93d-6216-4313-8990-1dbd2f631384",
   "metadata": {},
   "source": [
    "#### 4.1.2 EM"
   ]
  },
  {
   "cell_type": "code",
   "execution_count": 52,
   "id": "090e1896-b0c0-4e2f-a93a-40ceee5194ee",
   "metadata": {},
   "outputs": [],
   "source": [
    "from sklearn.mixture import GaussianMixture"
   ]
  },
  {
   "cell_type": "code",
   "execution_count": 53,
   "id": "e901aa2f-f843-4a7f-8966-1c955a1a7c84",
   "metadata": {},
   "outputs": [],
   "source": [
    "gmm = GaussianMixture(n_components=26, random_state=random_seed)\n",
    "gmm.fit(X_train)\n",
    "X_train_gmm = gmm.predict_proba(X_train)\n",
    "X_test_gmm = gmm.predict_proba(X_test)"
   ]
  },
  {
   "cell_type": "code",
   "execution_count": 54,
   "id": "46ea918a-3b09-4118-bf53-ae59d645bcea",
   "metadata": {},
   "outputs": [
    {
     "name": "stdout",
     "output_type": "stream",
     "text": [
      "Accuracy of neural network without hyperparameter tuning is 24.38%\n"
     ]
    }
   ],
   "source": [
    "clf_nn = MLPClassifier(random_state=7, max_iter=10000)\n",
    "clf_nn.fit(X_train_gmm, y_train)\n",
    "y_pred = clf_nn.predict(X_test_gmm)\n",
    "nn_accuracy = accuracy_score(y_test, y_pred)\n",
    "print('Accuracy of neural network without hyperparameter tuning is %.2f%%' % (nn_accuracy * 100))"
   ]
  },
  {
   "cell_type": "code",
   "execution_count": 55,
   "id": "649cd93c-e6dc-44b8-887a-4faa08cf5ccc",
   "metadata": {},
   "outputs": [
    {
     "name": "stdout",
     "output_type": "stream",
     "text": [
      "Best parameters set found on development set:\n",
      "{'alpha': 0, 'learning_rate_init': 0.01}\n"
     ]
    }
   ],
   "source": [
    "# Define grid for grid search after observing validation curves\n",
    "# alpha_range = np.logspace(-10, -5, 5)\n",
    "alpha_range = np.asarray([0])\n",
    "lr_range = np.logspace(-5, 0, 6)\n",
    "tuned_params = {'alpha' : alpha_range, 'learning_rate_init' : lr_range}\n",
    "clf_nn = GridSearchCV(clf_nn, param_grid=tuned_params, cv=5, n_jobs=-1)\n",
    "clf_nn.fit(X_train_gmm, y_train)\n",
    "best_clf_nn = clf_nn.best_estimator_\n",
    "best_params = clf_nn.best_params_\n",
    "print(\"Best parameters set found on development set:\")\n",
    "print(best_params)"
   ]
  },
  {
   "cell_type": "code",
   "execution_count": 56,
   "id": "3ed9fe15-0c71-43e8-bdd9-2b7f814f34f2",
   "metadata": {},
   "outputs": [
    {
     "name": "stdout",
     "output_type": "stream",
     "text": [
      "Training time: 0.789144 seconds\n",
      "Inference time on test data: 0.001994 seconds\n",
      "Best accuracy of neural network is 24.00%\n"
     ]
    }
   ],
   "source": [
    "t0 = time.time()\n",
    "best_clf_nn.fit(X_train_gmm, y_train)\n",
    "t1 = time.time()\n",
    "print('Training time: %f seconds' % (t1 - t0))\n",
    "t0 = time.time()\n",
    "y_pred = best_clf_nn.predict(X_test_gmm)\n",
    "t1 = time.time()\n",
    "test_time = t1 - t0\n",
    "print('Inference time on test data: %f seconds' % test_time)\n",
    "best_accuracy = accuracy_score(y_test, y_pred)\n",
    "print('Best accuracy of neural network is %.2f%%' % (best_accuracy * 100))"
   ]
  },
  {
   "cell_type": "markdown",
   "id": "55fefe0b-a8ce-42fc-9d4e-161a827108e7",
   "metadata": {},
   "source": [
    "#### 4.2 Dimension Reduction with NN"
   ]
  },
  {
   "cell_type": "markdown",
   "id": "b7a7abb2-3871-49e9-957d-0835dec49eec",
   "metadata": {},
   "source": [
    "#### 4.2.1 PCA"
   ]
  },
  {
   "cell_type": "code",
   "execution_count": 58,
   "id": "de6dcce9-3003-4855-ae99-18000ded7b20",
   "metadata": {},
   "outputs": [],
   "source": [
    "from sklearn.decomposition import PCA"
   ]
  },
  {
   "cell_type": "code",
   "execution_count": 59,
   "id": "efbed6f1-fca0-46d4-bc76-59d4dbb0460b",
   "metadata": {},
   "outputs": [],
   "source": [
    "# Choose the number of components that capture 85% of the variance\n",
    "n1 = 16\n",
    "\n",
    "# Transform the data\n",
    "pca1 = PCA(n_components=n1).fit(X_train)\n",
    "\n",
    "X_train_pca = pca1.transform(X_train)\n",
    "X_test_pca = pca1.transform(X_test)"
   ]
  },
  {
   "cell_type": "code",
   "execution_count": 63,
   "id": "8a451fdf-6145-41d7-8920-d6520d4bceef",
   "metadata": {},
   "outputs": [
    {
     "name": "stdout",
     "output_type": "stream",
     "text": [
      "Accuracy of neural network without hyperparameter tuning is 91.25%\n"
     ]
    }
   ],
   "source": [
    "clf_nn = MLPClassifier(random_state=7, max_iter=10000)\n",
    "clf_nn.fit(X_train_pca, y_train)\n",
    "y_pred = clf_nn.predict(X_test_pca)\n",
    "nn_accuracy = accuracy_score(y_test, y_pred)\n",
    "print('Accuracy of neural network without hyperparameter tuning is %.2f%%' % (nn_accuracy * 100))\n",
    "# print(classification_report(y1, y_pred))"
   ]
  },
  {
   "cell_type": "code",
   "execution_count": 64,
   "id": "a7c5cea3-ab0e-4814-9004-4b2e69dba859",
   "metadata": {},
   "outputs": [
    {
     "name": "stdout",
     "output_type": "stream",
     "text": [
      "Best parameters set found on development set:\n",
      "{'alpha': 3.1622776601683795, 'learning_rate_init': 0.001}\n"
     ]
    }
   ],
   "source": [
    "#Hyperparameter tuning\n",
    "# Define grid for grid search after observing validation curves\n",
    "alpha_range = np.logspace(-1, 2, 5)\n",
    "lr_range = np.logspace(-5, 0, 6)\n",
    "tuned_params = {'alpha' : alpha_range, 'learning_rate_init' : lr_range}\n",
    "clf_nn = GridSearchCV(clf_nn, param_grid=tuned_params, cv=5, n_jobs=-1)\n",
    "clf_nn.fit(X_train_pca, y_train)\n",
    "best_clf_nn = clf_nn.best_estimator_\n",
    "best_params = clf_nn.best_params_\n",
    "print(\"Best parameters set found on development set:\")\n",
    "print(best_params)"
   ]
  },
  {
   "cell_type": "code",
   "execution_count": 65,
   "id": "db64f19e-c609-48e5-b81f-b073e138c823",
   "metadata": {},
   "outputs": [
    {
     "name": "stdout",
     "output_type": "stream",
     "text": [
      "Training time: 5.380371 seconds\n",
      "Inference time on test data: 0.001964 seconds\n",
      "Best accuracy of neural network is 92.88%\n"
     ]
    }
   ],
   "source": [
    "t0 = time.time()\n",
    "best_clf_nn.fit(X_train_pca, y_train)\n",
    "t1 = time.time()\n",
    "print('Training time: %f seconds' % (t1 - t0))\n",
    "t0 = time.time()\n",
    "y_pred = best_clf_nn.predict(X_test_pca)\n",
    "t1 = time.time()\n",
    "test_time = t1 - t0\n",
    "print('Inference time on test data: %f seconds' % test_time)\n",
    "best_accuracy = accuracy_score(y_test, y_pred)\n",
    "print('Best accuracy of neural network is %.2f%%' % (best_accuracy * 100))"
   ]
  },
  {
   "cell_type": "markdown",
   "id": "d405b662-5503-4de6-9d7d-068677ed764f",
   "metadata": {},
   "source": [
    "#### 4.2.2 ICA"
   ]
  },
  {
   "cell_type": "code",
   "execution_count": 66,
   "id": "1e42cc1f-ffc4-40c5-b11f-9e82e601727d",
   "metadata": {},
   "outputs": [],
   "source": [
    "from sklearn.decomposition import FastICA"
   ]
  },
  {
   "cell_type": "code",
   "execution_count": 67,
   "id": "47c2ab43-c2c2-4186-8f79-028961dc1bb2",
   "metadata": {},
   "outputs": [],
   "source": [
    "# Choose the number of components that capture 85% of the variance\n",
    "n1 = 16\n",
    "\n",
    "# Transform the data\n",
    "ica1 = FastICA(n_components=16, random_state=random_seed).fit(X_train)\n",
    "\n",
    "X_train_ica = ica1.transform(X_train)\n",
    "X_test_ica = ica1.transform(X_test)"
   ]
  },
  {
   "cell_type": "code",
   "execution_count": 68,
   "id": "b0857d89-5365-494f-a404-1c6a845dc8d5",
   "metadata": {},
   "outputs": [
    {
     "name": "stdout",
     "output_type": "stream",
     "text": [
      "Accuracy of neural network without hyperparameter tuning is 92.88%\n"
     ]
    }
   ],
   "source": [
    "clf_nn = MLPClassifier(random_state=7, max_iter=10000)\n",
    "clf_nn.fit(X_train_ica, y_train)\n",
    "y_pred = clf_nn.predict(X_test_ica)\n",
    "nn_accuracy = accuracy_score(y_test, y_pred)\n",
    "print('Accuracy of neural network without hyperparameter tuning is %.2f%%' % (nn_accuracy * 100))\n",
    "# print(classification_report(y1, y_pred))"
   ]
  },
  {
   "cell_type": "code",
   "execution_count": 69,
   "id": "da9f6a31-cb23-43d7-8d00-afc9989673cc",
   "metadata": {},
   "outputs": [
    {
     "name": "stdout",
     "output_type": "stream",
     "text": [
      "Best parameters set found on development set:\n",
      "{'alpha': 0.1, 'learning_rate_init': 0.001}\n"
     ]
    }
   ],
   "source": [
    "#Hyperparameter tuning\n",
    "# Define grid for grid search after observing validation curves\n",
    "alpha_range = np.logspace(-1, 2, 5)\n",
    "lr_range = np.logspace(-5, 0, 6)\n",
    "tuned_params = {'alpha' : alpha_range, 'learning_rate_init' : lr_range}\n",
    "clf_nn = GridSearchCV(clf_nn, param_grid=tuned_params, cv=5, n_jobs=-1)\n",
    "clf_nn.fit(X_train_ica, y_train)\n",
    "best_clf_nn = clf_nn.best_estimator_\n",
    "best_params = clf_nn.best_params_\n",
    "print(\"Best parameters set found on development set:\")\n",
    "print(best_params)"
   ]
  },
  {
   "cell_type": "code",
   "execution_count": 71,
   "id": "6700578f-236b-41f2-97c8-11c5db3e2230",
   "metadata": {},
   "outputs": [
    {
     "name": "stdout",
     "output_type": "stream",
     "text": [
      "Training time: 10.875093 seconds\n",
      "Inference time on test data: 0.001974 seconds\n",
      "Best accuracy of neural network is 93.38%\n"
     ]
    }
   ],
   "source": [
    "t0 = time.time()\n",
    "best_clf_nn.fit(X_train_ica, y_train)\n",
    "t1 = time.time()\n",
    "print('Training time: %f seconds' % (t1 - t0))\n",
    "t0 = time.time()\n",
    "y_pred = best_clf_nn.predict(X_test_ica)\n",
    "t1 = time.time()\n",
    "test_time = t1 - t0\n",
    "print('Inference time on test data: %f seconds' % test_time)\n",
    "best_accuracy = accuracy_score(y_test, y_pred)\n",
    "print('Best accuracy of neural network is %.2f%%' % (best_accuracy * 100))"
   ]
  },
  {
   "cell_type": "markdown",
   "id": "3ad65a36-bf7e-4a35-a59a-ae0402e42fa3",
   "metadata": {},
   "source": [
    "#### 4.2.3 RP"
   ]
  },
  {
   "cell_type": "code",
   "execution_count": 70,
   "id": "de80d119-bd75-4971-8fb9-4273dd2e17df",
   "metadata": {},
   "outputs": [],
   "source": [
    "from sklearn.random_projection import GaussianRandomProjection"
   ]
  },
  {
   "cell_type": "code",
   "execution_count": 75,
   "id": "957d956d-fde6-49dc-a54f-be574720e9b7",
   "metadata": {},
   "outputs": [],
   "source": [
    "grp1 = GaussianRandomProjection(n_components=18, random_state=random_seed).fit(X_train)\n",
    "X_train_grp = grp1.transform(X_train)\n",
    "X_test_grp = grp1.transform(X_test)"
   ]
  },
  {
   "cell_type": "code",
   "execution_count": 80,
   "id": "0544e5b2-ab59-45ef-b3b2-d0644d71b289",
   "metadata": {},
   "outputs": [
    {
     "name": "stdout",
     "output_type": "stream",
     "text": [
      "Accuracy of neural network without hyperparameter tuning is 72.12%\n"
     ]
    }
   ],
   "source": [
    "clf_nn = None\n",
    "clf_nn = MLPClassifier(random_state=7, max_iter=10000)\n",
    "clf_nn.fit(X_train_grp, y_train)\n",
    "y_pred = clf_nn.predict(X_test_grp)\n",
    "nn_accuracy = accuracy_score(y_test, y_pred)\n",
    "print('Accuracy of neural network without hyperparameter tuning is %.2f%%' % (nn_accuracy * 100))\n",
    "# print(classification_report(y1, y_pred))"
   ]
  },
  {
   "cell_type": "code",
   "execution_count": 81,
   "id": "dcf46568-2bdb-45f1-b835-6692af78269e",
   "metadata": {},
   "outputs": [
    {
     "name": "stdout",
     "output_type": "stream",
     "text": [
      "Best parameters set found on development set:\n",
      "{'alpha': 0.5623413251903491, 'learning_rate_init': 0.1}\n"
     ]
    }
   ],
   "source": [
    "#Hyperparameter tuning\n",
    "# Define grid for grid search after observing validation curves\n",
    "alpha_range = np.logspace(-1, 2, 5)\n",
    "lr_range = np.logspace(-5, 0, 6)\n",
    "tuned_params = {'alpha' : alpha_range, 'learning_rate_init' : lr_range}\n",
    "clf_nn_cv = GridSearchCV(clf_nn, param_grid=tuned_params, cv=5, n_jobs=-1)\n",
    "clf_nn_cv.fit(X_train_grp, y_train)\n",
    "best_clf_nn = clf_nn_cv.best_estimator_\n",
    "best_params = clf_nn_cv.best_params_\n",
    "print(\"Best parameters set found on development set:\")\n",
    "print(best_params)"
   ]
  },
  {
   "cell_type": "code",
   "execution_count": 82,
   "id": "26cc567f-974f-45ef-b88d-f37be076762c",
   "metadata": {},
   "outputs": [
    {
     "name": "stdout",
     "output_type": "stream",
     "text": [
      "Training time: 1.128522 seconds\n",
      "Inference time on test data: 0.002007 seconds\n",
      "Best accuracy of neural network is 78.00%\n"
     ]
    }
   ],
   "source": [
    "t0 = time.time()\n",
    "best_clf_nn.fit(X_train_grp, y_train)\n",
    "t1 = time.time()\n",
    "print('Training time: %f seconds' % (t1 - t0))\n",
    "t0 = time.time()\n",
    "y_pred = best_clf_nn.predict(X_test_grp)\n",
    "t1 = time.time()\n",
    "test_time = t1 - t0\n",
    "print('Inference time on test data: %f seconds' % test_time)\n",
    "best_accuracy = accuracy_score(y_test, y_pred)\n",
    "print('Best accuracy of neural network is %.2f%%' % (best_accuracy * 100))"
   ]
  },
  {
   "cell_type": "markdown",
   "id": "56471992-3210-4f32-bea9-46c494feabb7",
   "metadata": {},
   "source": [
    "#### 4.2.4 Lasso"
   ]
  },
  {
   "cell_type": "code",
   "execution_count": 83,
   "id": "181f3034-af05-4196-9805-9a44a6841823",
   "metadata": {},
   "outputs": [],
   "source": [
    "# grid search hyperparameters for lasso regression\n",
    "from sklearn.linear_model import Lasso, LogisticRegression\n",
    "from sklearn.feature_selection import SelectFromModel"
   ]
  },
  {
   "cell_type": "code",
   "execution_count": 93,
   "id": "3ebc54ea-4dce-40ee-a1f7-f8564d3c2a76",
   "metadata": {},
   "outputs": [],
   "source": [
    "sel_ = SelectFromModel(LogisticRegression(C=0.1, penalty='l1',solver = 'liblinear'))\n",
    "sel_.fit(X_train, y_train)\n",
    "Xtrain_df = pd.DataFrame(data=X_train)\n",
    "Xtest_df = pd.DataFrame(data=X_test)\n",
    "\n",
    "selected_feat1 = X1_df.columns[(sel_.get_support())]\n",
    "X_train_lasso = Xtrain_df[Xtrain_df.columns[selected_feat1]]\n",
    "X_test_lasso = Xtest_df[Xtest_df.columns[selected_feat1]]"
   ]
  },
  {
   "cell_type": "code",
   "execution_count": 95,
   "id": "de1d0946-05e5-44d4-915c-6a41fec0809c",
   "metadata": {},
   "outputs": [
    {
     "name": "stdout",
     "output_type": "stream",
     "text": [
      "Accuracy of neural network without hyperparameter tuning is 91.88%\n"
     ]
    }
   ],
   "source": [
    "clf_nn = None\n",
    "clf_nn = MLPClassifier(random_state=7, max_iter=10000)\n",
    "clf_nn.fit(X_train_lasso, y_train)\n",
    "y_pred = clf_nn.predict(X_test_lasso)\n",
    "nn_accuracy = accuracy_score(y_test, y_pred)\n",
    "print('Accuracy of neural network without hyperparameter tuning is %.2f%%' % (nn_accuracy * 100))\n",
    "# print(classification_report(y1, y_pred))"
   ]
  },
  {
   "cell_type": "code",
   "execution_count": 96,
   "id": "96f48171-5cd8-433b-84c8-4919172e8c63",
   "metadata": {},
   "outputs": [
    {
     "name": "stdout",
     "output_type": "stream",
     "text": [
      "Best parameters set found on development set:\n",
      "{'alpha': 3.1622776601683795, 'learning_rate_init': 0.001}\n"
     ]
    }
   ],
   "source": [
    "#Hyperparameter tuning\n",
    "# Define grid for grid search after observing validation curves\n",
    "alpha_range = np.logspace(-1, 2, 5)\n",
    "lr_range = np.logspace(-5, 0, 6)\n",
    "tuned_params = {'alpha' : alpha_range, 'learning_rate_init' : lr_range}\n",
    "clf_nn_cv = GridSearchCV(clf_nn, param_grid=tuned_params, cv=5, n_jobs=-1)\n",
    "clf_nn_cv.fit(X_train_lasso, y_train)\n",
    "best_clf_nn = clf_nn_cv.best_estimator_\n",
    "best_params = clf_nn_cv.best_params_\n",
    "print(\"Best parameters set found on development set:\")\n",
    "print(best_params)"
   ]
  },
  {
   "cell_type": "code",
   "execution_count": 97,
   "id": "e9122578-f310-43a0-a02a-4081dedb82c7",
   "metadata": {},
   "outputs": [
    {
     "name": "stdout",
     "output_type": "stream",
     "text": [
      "Training time: 5.159770 seconds\n",
      "Inference time on test data: 0.004307 seconds\n",
      "Best accuracy of neural network is 96.75%\n"
     ]
    }
   ],
   "source": [
    "t0 = time.time()\n",
    "best_clf_nn.fit(X_train_lasso, y_train)\n",
    "t1 = time.time()\n",
    "print('Training time: %f seconds' % (t1 - t0))\n",
    "t0 = time.time()\n",
    "y_pred = best_clf_nn.predict(X_test_lasso)\n",
    "t1 = time.time()\n",
    "test_time = t1 - t0\n",
    "print('Inference time on test data: %f seconds' % test_time)\n",
    "best_accuracy = accuracy_score(y_test, y_pred)\n",
    "print('Best accuracy of neural network is %.2f%%' % (best_accuracy * 100))"
   ]
  },
  {
   "cell_type": "code",
   "execution_count": 98,
   "id": "84188866-1d66-4210-a9d5-e8b1196d55a1",
   "metadata": {},
   "outputs": [
    {
     "data": {
      "text/plain": [
       "array([  0.1       ,   0.56234133,   3.16227766,  17.7827941 ,\n",
       "       100.        ])"
      ]
     },
     "execution_count": 98,
     "metadata": {},
     "output_type": "execute_result"
    }
   ],
   "source": [
    "alpha_range"
   ]
  },
  {
   "cell_type": "code",
   "execution_count": 99,
   "id": "2d2e5843-31f0-4c20-970e-026818f7a114",
   "metadata": {},
   "outputs": [
    {
     "data": {
      "text/plain": [
       "array([1.e-05, 1.e-04, 1.e-03, 1.e-02, 1.e-01, 1.e+00])"
      ]
     },
     "execution_count": 99,
     "metadata": {},
     "output_type": "execute_result"
    }
   ],
   "source": [
    "lr_range"
   ]
  },
  {
   "cell_type": "code",
   "execution_count": null,
   "id": "3f62d070-606e-4e19-b97d-ea9314bfe908",
   "metadata": {},
   "outputs": [],
   "source": []
  }
 ],
 "metadata": {
  "kernelspec": {
   "display_name": "Python 3 (ipykernel)",
   "language": "python",
   "name": "python3"
  },
  "language_info": {
   "codemirror_mode": {
    "name": "ipython",
    "version": 3
   },
   "file_extension": ".py",
   "mimetype": "text/x-python",
   "name": "python",
   "nbconvert_exporter": "python",
   "pygments_lexer": "ipython3",
   "version": "3.9.6"
  }
 },
 "nbformat": 4,
 "nbformat_minor": 5
}
